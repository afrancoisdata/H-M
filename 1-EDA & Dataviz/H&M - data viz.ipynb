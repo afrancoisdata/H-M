{
 "cells": [
  {
   "attachments": {
    "h&m.jfif": {
     "image/jpeg": "[encoded data removed]"
    }
   },
   "cell_type": "markdown",
   "id": "ebbc74da",
   "metadata": {},
   "source": [
    "![h&m.jfif](attachment:h&m.jfif)"
   ]
  },
  {
   "cell_type": "markdown",
   "id": "2599c7f6",
   "metadata": {},
   "source": [
    "# Table of Contents\n",
    "\n",
    "* [Exploratory Data Analysis & data preprocessing](#data)\n",
    "    * [Loading data](#data)\n",
    "    * [Exploring articles.csv](#articles)\n",
    "        * [How is this data useful ?](#articles_use)\n",
    "        * [What processing needed ?](#articles_processing)\n",
    "    * [Exploring customers.csv](#customers)\n",
    "        * [How is this data useful ?](#customers_use)\n",
    "        * [What processing needed ?](#customers_processing)\n",
    "    * [Exploring transactions_train.csv.csv](#transactions)\n",
    "        * [How is this data useful ?](#transactions_use)\n",
    "        * [What processing needed ?](#transactions_processing)\n",
    "    * [Structure of data and link between datasets](#structure)\n",
    "    \n",
    "    \n",
    "* [Recommendation system](#Recommendation)\n",
    "    * [List and description of recommendation algorithms](#algos)\n",
    "    \n",
    "    \n",
    "    \n",
    "    feature engineering "
   ]
  },
  {
   "cell_type": "markdown",
   "id": "eeddcf3c",
   "metadata": {},
   "source": [
    "# Exploratory Data Analysis & data preprocessing"
   ]
  },
  {
   "cell_type": "code",
   "execution_count": 1,
   "id": "7fe4b544",
   "metadata": {},
   "outputs": [],
   "source": [
    "import numpy as np\n",
    "import pandas as pd\n",
    "import seaborn as sns\n",
    "from matplotlib import pyplot as plt"
   ]
  },
  {
   "cell_type": "markdown",
   "id": "22b105f1",
   "metadata": {},
   "source": [
    "### Loading data <a class=\"anchor\" id=\"data\"></a>"
   ]
  },
  {
   "cell_type": "code",
   "execution_count": 2,
   "id": "ff2a5e14",
   "metadata": {},
   "outputs": [],
   "source": [
    "# articles = pd.read_csv('./Data/articles.csv')\n",
    "\n",
    "raw_articles = pd.read_csv('./Data/articles.csv', dtype={'article_id': 'str','customer_id':'str'})\n",
    "articles=raw_articles.copy()"
   ]
  },
  {
   "cell_type": "code",
   "execution_count": 3,
   "id": "1b230b22",
   "metadata": {},
   "outputs": [],
   "source": [
    "raw_customers = pd.read_csv('./Data/customers.csv')\n",
    "customers=raw_customers.copy()"
   ]
  },
  {
   "cell_type": "code",
   "execution_count": 4,
   "id": "b9cb487c",
   "metadata": {},
   "outputs": [],
   "source": [
    "raw_transactions=pd.read_csv('./Data/transactions_train.csv', dtype={'article_id': 'str','customer_id':'str'})\n",
    "transactions=raw_transactions.copy()"
   ]
  },
  {
   "cell_type": "code",
   "execution_count": 5,
   "id": "d9e63cd4",
   "metadata": {},
   "outputs": [
    {
     "data": {
      "text/plain": [
       "31788324"
      ]
     },
     "execution_count": 5,
     "metadata": {},
     "output_type": "execute_result"
    }
   ],
   "source": [
    "len(transactions)"
   ]
  },
  {
   "cell_type": "markdown",
   "id": "e7eaab79",
   "metadata": {},
   "source": [
    "## Q1. Top 100 most sold products"
   ]
  },
  {
   "cell_type": "code",
   "execution_count": 6,
   "id": "14a5ea94",
   "metadata": {},
   "outputs": [],
   "source": [
    "Sold_quantities=transactions.groupby('article_id').agg(quantities_sold=('price','count'))\n",
    "Sold_quantities=Sold_quantities.reset_index()\n",
    "ordered_sold_quantities=Sold_quantities.sort_values('quantities_sold',ascending=False)"
   ]
  },
  {
   "cell_type": "code",
   "execution_count": 7,
   "id": "9b78c741",
   "metadata": {},
   "outputs": [],
   "source": [
    "top_100=ordered_sold_quantities.head(100)\n",
    "top_30=ordered_sold_quantities.head(30)"
   ]
  },
  {
   "cell_type": "code",
   "execution_count": 8,
   "id": "ea8df6a8",
   "metadata": {
    "scrolled": true
   },
   "outputs": [],
   "source": [
    "top_100_details=top_100.merge(articles,on='article_id')\n",
    "top_30_details=top_30.merge(articles,on='article_id')"
   ]
  },
  {
   "cell_type": "code",
   "execution_count": 9,
   "id": "c0f4f157",
   "metadata": {},
   "outputs": [
    {
     "data": {
      "text/plain": [
       "prod_name\n",
       "Jade HW Skinny Denim TRS       122142\n",
       "7p Basic Shaftless              56176\n",
       "Tilly (1)                       52650\n",
       "Luna skinny RW                  41183\n",
       "Tilda tank                      26329\n",
       "Greta Thong Mynta Low 3p        25025\n",
       "Curvy Jeggings HW Ankle         22236\n",
       "SUPREME RW tights               21063\n",
       "Box 4p Tights                   21013\n",
       "Lazer Razer Brief               20415\n",
       "Skinny Ankle R.W Brooklyn       20242\n",
       "Ringo hipbelt                   19834\n",
       "Mariette Blazer                 19379\n",
       "Perrie Slim Mom Denim TRS       19216\n",
       "Henry polo. (1)                 19143\n",
       "Pluto RW slacks (1)             18263\n",
       "Scallop 5p Socks                17886\n",
       "3p Sneaker Socks                17866\n",
       "Simple as that Cheeky Tanga     17754\n",
       "Kanta slacks RW                 16690\n",
       "Highwaist 30 den 1p Tights      16533\n",
       "New Girl Push Top               15906\n",
       "Calista cardigan.               15612\n",
       "Julia RW Skinny Denim TRS       15245\n",
       "Name: quantities_sold, dtype: int64"
      ]
     },
     "execution_count": 9,
     "metadata": {},
     "output_type": "execute_result"
    }
   ],
   "source": [
    "top_30_by_product=top_30_details.groupby('prod_name')['quantities_sold'].sum()\n",
    "top_30_by_product=top_30_by_product.sort_values(ascending=False)\n",
    "top_30_by_product"
   ]
  },
  {
   "cell_type": "code",
   "execution_count": 10,
   "id": "346d75c4",
   "metadata": {},
   "outputs": [
    {
     "data": {
      "text/plain": [
       "product_group_name\n",
       "Garment Lower body    312813\n",
       "Garment Upper body    133113\n",
       "Socks & Tights        112941\n",
       "Swimwear               54075\n",
       "Underwear              25025\n",
       "Accessories            19834\n",
       "Name: quantities_sold, dtype: int64"
      ]
     },
     "execution_count": 10,
     "metadata": {},
     "output_type": "execute_result"
    }
   ],
   "source": [
    "top_30_by_product_group=top_30_details.groupby('product_group_name')['quantities_sold'].sum()\n",
    "top_30_by_product_group=top_30_by_product_group.sort_values(ascending=False)\n",
    "top_30_by_product_group"
   ]
  },
  {
   "cell_type": "code",
   "execution_count": 11,
   "id": "7892de05",
   "metadata": {
    "scrolled": true
   },
   "outputs": [
    {
     "data": {
      "text/plain": [
       "department_name\n",
       "Trousers                    156603\n",
       "Shopbasket Socks             91928\n",
       "Trouser                      76136\n",
       "Swimwear                     54075\n",
       "Jersey Basic                 52650\n",
       "Tights basic                 37546\n",
       "Knitwear                     34755\n",
       "EQ Divided Basics            26329\n",
       "Casual Lingerie              25025\n",
       "Denim Trousers               22236\n",
       "Ladies Sport Bottoms         21063\n",
       "Everyday Waredrobe Denim     20242\n",
       "Belts                        19834\n",
       "Suit                         19379\n",
       "Name: quantities_sold, dtype: int64"
      ]
     },
     "execution_count": 11,
     "metadata": {},
     "output_type": "execute_result"
    }
   ],
   "source": [
    "top_30_by_department=top_30_details.groupby('department_name')['quantities_sold'].sum()\n",
    "top_30_by_department=top_30_by_department.sort_values(ascending=False)\n",
    "top_30_by_department"
   ]
  },
  {
   "cell_type": "code",
   "execution_count": 12,
   "id": "8fe3a4cb",
   "metadata": {},
   "outputs": [
    {
     "data": {
      "text/plain": [
       "index_name\n",
       "Lingeries/Tights      208574\n",
       "Divided               205168\n",
       "Ladieswear            203162\n",
       "Sport                  21063\n",
       "Ladies Accessories     19834\n",
       "Name: quantities_sold, dtype: int64"
      ]
     },
     "execution_count": 12,
     "metadata": {},
     "output_type": "execute_result"
    }
   ],
   "source": [
    "top_30_by_index=top_30_details.groupby('index_name')['quantities_sold'].sum()\n",
    "top_30_by_index=top_30_by_index.sort_values(ascending=False)\n",
    "top_30_by_index"
   ]
  },
  {
   "cell_type": "code",
   "execution_count": 13,
   "id": "1efc0bbb",
   "metadata": {},
   "outputs": [
    {
     "data": {
      "text/plain": [
       "section_name\n",
       "Divided Collection                156603\n",
       "Womens Nightwear, Socks & Tigh    129474\n",
       "Womens Everyday Collection         76136\n",
       "Womens Tailoring                   54134\n",
       "Womens Swimwear, beachwear         54075\n",
       "Womens Everyday Basics             52650\n",
       "Ladies Denim                       42478\n",
       "Divided Complements Other          26329\n",
       "Womens Lingerie                    25025\n",
       "Ladies H&M Sport                   21063\n",
       "Womens Big accessories             19834\n",
       "Name: quantities_sold, dtype: int64"
      ]
     },
     "execution_count": 13,
     "metadata": {},
     "output_type": "execute_result"
    }
   ],
   "source": [
    "top_30_by_section=top_30_details.groupby('section_name')['quantities_sold'].sum()\n",
    "top_30_by_section=top_30_by_section.sort_values(ascending=False)\n",
    "top_30_by_section"
   ]
  },
  {
   "cell_type": "code",
   "execution_count": 17,
   "id": "685edbc3",
   "metadata": {},
   "outputs": [
    {
     "name": "stderr",
     "output_type": "stream",
     "text": [
      "C:\\Users\\amaur\\AppData\\Local\\Temp\\ipykernel_77692\\4246292069.py:6: SettingWithCopyWarning: \n",
      "A value is trying to be set on a copy of a slice from a DataFrame.\n",
      "Try using .loc[row_indexer,col_indexer] = value instead\n",
      "\n",
      "See the caveats in the documentation: https://pandas.pydata.org/pandas-docs/stable/user_guide/indexing.html#returning-a-view-versus-a-copy\n",
      "  top_30['quantities_sold_%']=round(top_30['quantities_sold']*100/total_sales,2)\n"
     ]
    },
    {
     "data": {
      "text/html": [
       "<div>\n",
       "<style scoped>\n",
       "    .dataframe tbody tr th:only-of-type {\n",
       "        vertical-align: middle;\n",
       "    }\n",
       "\n",
       "    .dataframe tbody tr th {\n",
       "        vertical-align: top;\n",
       "    }\n",
       "\n",
       "    .dataframe thead th {\n",
       "        text-align: right;\n",
       "    }\n",
       "</style>\n",
       "<table border=\"1\" class=\"dataframe\">\n",
       "  <thead>\n",
       "    <tr style=\"text-align: right;\">\n",
       "      <th></th>\n",
       "      <th>article_id</th>\n",
       "      <th>quantities_sold</th>\n",
       "      <th>quantities_sold_%</th>\n",
       "    </tr>\n",
       "  </thead>\n",
       "  <tbody>\n",
       "    <tr>\n",
       "      <th>53832</th>\n",
       "      <td>0706016001</td>\n",
       "      <td>50287</td>\n",
       "      <td>0.16</td>\n",
       "    </tr>\n",
       "    <tr>\n",
       "      <th>53833</th>\n",
       "      <td>0706016002</td>\n",
       "      <td>35043</td>\n",
       "      <td>0.11</td>\n",
       "    </tr>\n",
       "    <tr>\n",
       "      <th>1711</th>\n",
       "      <td>0372860001</td>\n",
       "      <td>31718</td>\n",
       "      <td>0.10</td>\n",
       "    </tr>\n",
       "    <tr>\n",
       "      <th>24808</th>\n",
       "      <td>0610776002</td>\n",
       "      <td>30199</td>\n",
       "      <td>0.10</td>\n",
       "    </tr>\n",
       "    <tr>\n",
       "      <th>70124</th>\n",
       "      <td>0759871002</td>\n",
       "      <td>26329</td>\n",
       "      <td>0.08</td>\n",
       "    </tr>\n",
       "    <tr>\n",
       "      <th>3706</th>\n",
       "      <td>0464297007</td>\n",
       "      <td>25025</td>\n",
       "      <td>0.08</td>\n",
       "    </tr>\n",
       "    <tr>\n",
       "      <th>1712</th>\n",
       "      <td>0372860002</td>\n",
       "      <td>24458</td>\n",
       "      <td>0.08</td>\n",
       "    </tr>\n",
       "    <tr>\n",
       "      <th>24807</th>\n",
       "      <td>0610776001</td>\n",
       "      <td>22451</td>\n",
       "      <td>0.07</td>\n",
       "    </tr>\n",
       "    <tr>\n",
       "      <th>2233</th>\n",
       "      <td>0399223001</td>\n",
       "      <td>22236</td>\n",
       "      <td>0.07</td>\n",
       "    </tr>\n",
       "    <tr>\n",
       "      <th>53834</th>\n",
       "      <td>0706016003</td>\n",
       "      <td>21241</td>\n",
       "      <td>0.07</td>\n",
       "    </tr>\n",
       "    <tr>\n",
       "      <th>58427</th>\n",
       "      <td>0720125001</td>\n",
       "      <td>21063</td>\n",
       "      <td>0.07</td>\n",
       "    </tr>\n",
       "    <tr>\n",
       "      <th>67</th>\n",
       "      <td>0156231001</td>\n",
       "      <td>21013</td>\n",
       "      <td>0.07</td>\n",
       "    </tr>\n",
       "    <tr>\n",
       "      <th>14232</th>\n",
       "      <td>0562245046</td>\n",
       "      <td>20719</td>\n",
       "      <td>0.07</td>\n",
       "    </tr>\n",
       "    <tr>\n",
       "      <th>14219</th>\n",
       "      <td>0562245001</td>\n",
       "      <td>20464</td>\n",
       "      <td>0.06</td>\n",
       "    </tr>\n",
       "    <tr>\n",
       "      <th>1467</th>\n",
       "      <td>0351484002</td>\n",
       "      <td>20415</td>\n",
       "      <td>0.06</td>\n",
       "    </tr>\n",
       "    <tr>\n",
       "      <th>2249</th>\n",
       "      <td>0399256001</td>\n",
       "      <td>20242</td>\n",
       "      <td>0.06</td>\n",
       "    </tr>\n",
       "    <tr>\n",
       "      <th>42514</th>\n",
       "      <td>0673396002</td>\n",
       "      <td>19834</td>\n",
       "      <td>0.06</td>\n",
       "    </tr>\n",
       "    <tr>\n",
       "      <th>15980</th>\n",
       "      <td>0568601006</td>\n",
       "      <td>19379</td>\n",
       "      <td>0.06</td>\n",
       "    </tr>\n",
       "    <tr>\n",
       "      <th>3087</th>\n",
       "      <td>0448509014</td>\n",
       "      <td>19216</td>\n",
       "      <td>0.06</td>\n",
       "    </tr>\n",
       "    <tr>\n",
       "      <th>42583</th>\n",
       "      <td>0673677002</td>\n",
       "      <td>19143</td>\n",
       "      <td>0.06</td>\n",
       "    </tr>\n",
       "    <tr>\n",
       "      <th>67435</th>\n",
       "      <td>0751471001</td>\n",
       "      <td>18263</td>\n",
       "      <td>0.06</td>\n",
       "    </tr>\n",
       "    <tr>\n",
       "      <th>24237</th>\n",
       "      <td>0608776002</td>\n",
       "      <td>17886</td>\n",
       "      <td>0.06</td>\n",
       "    </tr>\n",
       "    <tr>\n",
       "      <th>74</th>\n",
       "      <td>0160442007</td>\n",
       "      <td>17866</td>\n",
       "      <td>0.06</td>\n",
       "    </tr>\n",
       "    <tr>\n",
       "      <th>47246</th>\n",
       "      <td>0688537004</td>\n",
       "      <td>17754</td>\n",
       "      <td>0.06</td>\n",
       "    </tr>\n",
       "    <tr>\n",
       "      <th>17359</th>\n",
       "      <td>0573716012</td>\n",
       "      <td>16690</td>\n",
       "      <td>0.05</td>\n",
       "    </tr>\n",
       "    <tr>\n",
       "      <th>73</th>\n",
       "      <td>0158340001</td>\n",
       "      <td>16533</td>\n",
       "      <td>0.05</td>\n",
       "    </tr>\n",
       "    <tr>\n",
       "      <th>20822</th>\n",
       "      <td>0590928001</td>\n",
       "      <td>15906</td>\n",
       "      <td>0.05</td>\n",
       "    </tr>\n",
       "    <tr>\n",
       "      <th>18560</th>\n",
       "      <td>0579541001</td>\n",
       "      <td>15612</td>\n",
       "      <td>0.05</td>\n",
       "    </tr>\n",
       "    <tr>\n",
       "      <th>53842</th>\n",
       "      <td>0706016015</td>\n",
       "      <td>15571</td>\n",
       "      <td>0.05</td>\n",
       "    </tr>\n",
       "    <tr>\n",
       "      <th>12566</th>\n",
       "      <td>0554450001</td>\n",
       "      <td>15245</td>\n",
       "      <td>0.05</td>\n",
       "    </tr>\n",
       "  </tbody>\n",
       "</table>\n",
       "</div>"
      ],
      "text/plain": [
       "       article_id  quantities_sold  quantities_sold_%\n",
       "53832  0706016001            50287               0.16\n",
       "53833  0706016002            35043               0.11\n",
       "1711   0372860001            31718               0.10\n",
       "24808  0610776002            30199               0.10\n",
       "70124  0759871002            26329               0.08\n",
       "3706   0464297007            25025               0.08\n",
       "1712   0372860002            24458               0.08\n",
       "24807  0610776001            22451               0.07\n",
       "2233   0399223001            22236               0.07\n",
       "53834  0706016003            21241               0.07\n",
       "58427  0720125001            21063               0.07\n",
       "67     0156231001            21013               0.07\n",
       "14232  0562245046            20719               0.07\n",
       "14219  0562245001            20464               0.06\n",
       "1467   0351484002            20415               0.06\n",
       "2249   0399256001            20242               0.06\n",
       "42514  0673396002            19834               0.06\n",
       "15980  0568601006            19379               0.06\n",
       "3087   0448509014            19216               0.06\n",
       "42583  0673677002            19143               0.06\n",
       "67435  0751471001            18263               0.06\n",
       "24237  0608776002            17886               0.06\n",
       "74     0160442007            17866               0.06\n",
       "47246  0688537004            17754               0.06\n",
       "17359  0573716012            16690               0.05\n",
       "73     0158340001            16533               0.05\n",
       "20822  0590928001            15906               0.05\n",
       "18560  0579541001            15612               0.05\n",
       "53842  0706016015            15571               0.05\n",
       "12566  0554450001            15245               0.05"
      ]
     },
     "execution_count": 17,
     "metadata": {},
     "output_type": "execute_result"
    }
   ],
   "source": [
    "top_30_by_product=top_30_details.groupby('prod_name')['quantities_sold'].sum()\n",
    "top_30_by_product=top_30_by_product.sort_values(ascending=False).head(30)\n",
    "top_30_by_product\n",
    "total_sales=Sold_quantities['quantities_sold'].sum()\n",
    "# top_100=top_100.reset_index()\n",
    "top_30['quantities_sold_%']=round(top_30['quantities_sold']*100/total_sales,2)\n",
    "top_30"
   ]
  },
  {
   "cell_type": "code",
   "execution_count": 18,
   "id": "9b10874b",
   "metadata": {},
   "outputs": [
    {
     "data": {
      "image/png": "[encoded data removed]",
      "text/plain": [
       "<Figure size 1008x576 with 1 Axes>"
      ]
     },
     "metadata": {
      "needs_background": "light"
     },
     "output_type": "display_data"
    }
   ],
   "source": [
    "plt.figure(figsize=(14,8))\n",
    "plt.title(\"TOP 100 most sold products\", fontsize=33, fontweight=\"bold\")\n",
    "g = sns.barplot(y=\"article_id\", x=\"quantities_sold_%\", data=top_30, palette=\"mako\", ci=False,orient='h')\n",
    "\n",
    "for container in g.containers:\n",
    "    g.bar_label(container, padding = 5, fontsize=12)\n",
    "plt.xlabel(\"Sold Quantity (%)\", size=25, fontweight=\"bold\")\n",
    "plt.ylabel(\"article_id\")\n",
    "plt.grid(axis=\"x\",color = 'grey', linestyle = '--', linewidth = 1)\n",
    "plt.show()"
   ]
  },
  {
   "cell_type": "code",
   "execution_count": 21,
   "id": "10189ff9",
   "metadata": {},
   "outputs": [
    {
     "ename": "NameError",
     "evalue": "name 'top_100_price_details' is not defined",
     "output_type": "error",
     "traceback": [
      "\u001b[1;31m---------------------------------------------------------------------------\u001b[0m",
      "\u001b[1;31mNameError\u001b[0m                                 Traceback (most recent call last)",
      "Input \u001b[1;32mIn [21]\u001b[0m, in \u001b[0;36m<module>\u001b[1;34m\u001b[0m\n\u001b[0;32m      5\u001b[0m plt\u001b[38;5;241m.\u001b[39msuptitle(\u001b[38;5;124m\"\u001b[39m\u001b[38;5;124mTOP 100 most profitable products characteristics\u001b[39m\u001b[38;5;124m\"\u001b[39m, fontweight\u001b[38;5;241m=\u001b[39m\u001b[38;5;124m\"\u001b[39m\u001b[38;5;124mbold\u001b[39m\u001b[38;5;124m\"\u001b[39m, fontsize\u001b[38;5;241m=\u001b[39m\u001b[38;5;241m30\u001b[39m)\n\u001b[0;32m      9\u001b[0m \u001b[38;5;66;03m# Creating subplot 1 : [0,0], in barplot you set ax=ax[0,0], we use sns (seaborn) as it is nicer\u001b[39;00m\n\u001b[0;32m     10\u001b[0m \u001b[38;5;66;03m# g = sns.barplot(y=\"colomn to use in data for the y axis\", x=\"colomn to use in data for the x axis\", data=data to use (can be a dataframe),\u001b[39;00m\n\u001b[0;32m     11\u001b[0m \u001b[38;5;66;03m#             ax='subplot to use for display example: ax[0,0]',palette=\"color to use: Blues_r\", ci= ' ?? True or False)\u001b[39;00m\n\u001b[0;32m     12\u001b[0m \u001b[38;5;66;03m# cifloat or \"sd\" or None, optional\u001b[39;00m\n\u001b[0;32m     13\u001b[0m \u001b[38;5;66;03m# Size of confidence intervals to draw around estimated values. If “sd”, skip bootstrapping and draw the standard deviation of the observations. If None, no bootstrapping will be performed, and error bars will not be drawn.\u001b[39;00m\n\u001b[1;32m---> 14\u001b[0m g \u001b[38;5;241m=\u001b[39m sns\u001b[38;5;241m.\u001b[39mbarplot(y\u001b[38;5;241m=\u001b[39m\u001b[38;5;124m\"\u001b[39m\u001b[38;5;124mproduct_type_name\u001b[39m\u001b[38;5;124m\"\u001b[39m, x\u001b[38;5;241m=\u001b[39m\u001b[38;5;124m\"\u001b[39m\u001b[38;5;124mearning(\u001b[39m\u001b[38;5;124m%\u001b[39m\u001b[38;5;124m)\u001b[39m\u001b[38;5;124m\"\u001b[39m, data\u001b[38;5;241m=\u001b[39m\u001b[43mtop_100_price_details\u001b[49m\u001b[38;5;241m.\u001b[39miloc[:no]\u001b[38;5;241m.\u001b[39mgroupby(\u001b[38;5;124m\"\u001b[39m\u001b[38;5;124mproduct_type_name\u001b[39m\u001b[38;5;124m\"\u001b[39m)[\u001b[38;5;124m\"\u001b[39m\u001b[38;5;124mearning\u001b[39m\u001b[38;5;124m\"\u001b[39m]\u001b[38;5;241m.\u001b[39msum() \\\n\u001b[0;32m     15\u001b[0m             \u001b[38;5;241m.\u001b[39mtransform(\u001b[38;5;28;01mlambda\u001b[39;00m x: (x \u001b[38;5;241m/\u001b[39m x\u001b[38;5;241m.\u001b[39msum() \u001b[38;5;241m*\u001b[39m \u001b[38;5;241m100\u001b[39m))\u001b[38;5;241m.\u001b[39mrename(\u001b[38;5;124m'\u001b[39m\u001b[38;5;124mearning(\u001b[39m\u001b[38;5;124m%\u001b[39m\u001b[38;5;124m)\u001b[39m\u001b[38;5;124m'\u001b[39m)\u001b[38;5;241m.\u001b[39mreset_index()\u001b[38;5;241m.\u001b[39msort_values(by\u001b[38;5;241m=\u001b[39m\u001b[38;5;124m\"\u001b[39m\u001b[38;5;124mearning(\u001b[39m\u001b[38;5;124m%\u001b[39m\u001b[38;5;124m)\u001b[39m\u001b[38;5;124m\"\u001b[39m, ascending\u001b[38;5;241m=\u001b[39m\u001b[38;5;28;01mFalse\u001b[39;00m), \\\n\u001b[0;32m     16\u001b[0m             ax\u001b[38;5;241m=\u001b[39max[\u001b[38;5;241m0\u001b[39m,\u001b[38;5;241m0\u001b[39m],palette\u001b[38;5;241m=\u001b[39m\u001b[38;5;124m\"\u001b[39m\u001b[38;5;124mBlues_r\u001b[39m\u001b[38;5;124m\"\u001b[39m, ci\u001b[38;5;241m=\u001b[39m\u001b[38;5;28;01mFalse\u001b[39;00m)\n\u001b[0;32m     19\u001b[0m \u001b[38;5;28;01mfor\u001b[39;00m container \u001b[38;5;129;01min\u001b[39;00m g\u001b[38;5;241m.\u001b[39mcontainers:\n\u001b[0;32m     20\u001b[0m     g\u001b[38;5;241m.\u001b[39mbar_label(container, padding \u001b[38;5;241m=\u001b[39m \u001b[38;5;241m5\u001b[39m, fmt\u001b[38;5;241m=\u001b[39m\u001b[38;5;124m'\u001b[39m\u001b[38;5;132;01m%.1f\u001b[39;00m\u001b[38;5;124m'\u001b[39m, fontsize\u001b[38;5;241m=\u001b[39m\u001b[38;5;241m14\u001b[39m, color\u001b[38;5;241m=\u001b[39m\u001b[38;5;124m\"\u001b[39m\u001b[38;5;124mblack\u001b[39m\u001b[38;5;124m\"\u001b[39m)\n",
      "\u001b[1;31mNameError\u001b[0m: name 'top_100_price_details' is not defined"
     ]
    },
    {
     "data": {
      "image/png": "[encoded data removed]",
      "text/plain": [
       "<Figure size 936x648 with 4 Axes>"
      ]
     },
     "metadata": {
      "needs_background": "light"
     },
     "output_type": "display_data"
    }
   ],
   "source": [
    "# creating a plot with 2 by 2 subplots\n",
    "fig, ax = plt.subplots(2,2, figsize=(13,9))\n",
    "\n",
    "# Setting the common title for all 4 subplots \n",
    "plt.suptitle(\"TOP 100 most profitable products characteristics\", fontweight=\"bold\", fontsize=30)\n",
    "\n",
    "\n",
    "\n",
    "# Creating subplot 1 : [0,0], in barplot you set ax=ax[0,0], we use sns (seaborn) as it is nicer\n",
    "# g = sns.barplot(y=\"colomn to use in data for the y axis\", x=\"colomn to use in data for the x axis\", data=data to use (can be a dataframe),\n",
    "#             ax='subplot to use for display example: ax[0,0]',palette=\"color to use: Blues_r\", ci= ' ?? True or False)\n",
    "# cifloat or \"sd\" or None, optional\n",
    "# Size of confidence intervals to draw around estimated values. If “sd”, skip bootstrapping and draw the standard deviation of the observations. If None, no bootstrapping will be performed, and error bars will not be drawn.\n",
    "g = sns.barplot(y=\"product_type_name\", x=\"earning(%)\", data=top_100_price_details.iloc[:no].groupby(\"product_type_name\")[\"earning\"].sum() \\\n",
    "            .transform(lambda x: (x / x.sum() * 100)).rename('earning(%)').reset_index().sort_values(by=\"earning(%)\", ascending=False), \\\n",
    "            ax=ax[0,0],palette=\"Blues_r\", ci=False)\n",
    "\n",
    "\n",
    "for container in g.containers:\n",
    "    g.bar_label(container, padding = 5, fmt='%.1f', fontsize=14, color=\"black\")\n",
    "ax[0,0].set_ylabel(\"\")\n",
    "ax[0,0].set_xlabel(\"Earnings (%)\", size=20,fontweight=\"bold\")\n",
    "ax[0,0].set_title(\"Product Type\", size=25,fontweight=\"bold\")\n",
    "ax[0,0].grid(axis=\"x\",color = 'grey', linestyle = '--', linewidth = 1.5)\n",
    "\n",
    "\n",
    "# Creating subplot 1 : [0,1]\n",
    "g = sns.barplot(y=\"index_name\", x=\"earning(%)\", data=top_100_price_details.iloc[:no].groupby(\"index_name\")[\"earning\"].sum() \\\n",
    "            .transform(lambda x: (x / x.sum() * 100)).rename('earning(%)').reset_index().sort_values(by=\"earning(%)\", ascending=False), \\\n",
    "            ax=ax[0,1],palette=\"viridis\", ci=False)\n",
    "for container in g.containers:\n",
    "    g.bar_label(container, fmt='%.1f', padding = 5, fontsize=18, color=\"black\")\n",
    "ax[0,1].set_ylabel(\"\")\n",
    "ax[0,1].set_xlabel(\"Earnings (%)\", size=20,fontweight=\"bold\")\n",
    "ax[0,1].set_title(\"Index\", size=25,fontweight=\"bold\")\n",
    "ax[0,1].grid(axis=\"x\",color = 'grey', linestyle = '--', linewidth = 1.5)\n",
    "\n",
    "\n",
    "# Creating subplot 1 : [1,0]\n",
    "g = sns.barplot(y=\"colour_group_name\", x=\"earning(%)\", data=top_100_price_details.iloc[:no].groupby(\"colour_group_name\")[\"earning\"].sum() \\\n",
    "            .transform(lambda x: (x / x.sum() * 100)).rename('earning(%)').reset_index().sort_values(by=\"earning(%)\", ascending=False), \\\n",
    "            ax=ax[1,0],palette=\"mako\", ci=False)\n",
    "for container in g.containers:\n",
    "    g.bar_label(container, padding = 5, fmt='%.1f', fontsize=18, color=\"black\")\n",
    "ax[1,0].set_ylabel(\"\")\n",
    "ax[1,0].set_xlabel(\"Earnings (%)\", size=20,fontweight=\"bold\")\n",
    "ax[1,0].set_title(\"Colour Group\", size=25,fontweight=\"bold\")\n",
    "ax[1,0].grid(axis=\"x\",color = 'grey', linestyle = '--', linewidth = 1.5)\n",
    "\n",
    "\n",
    "# Creating subplot 1 : [1,1]\n",
    "g = sns.barplot(y=\"product_group_name\", x=\"earning(%)\", data=top_100_price_details.iloc[:no].groupby(\"product_group_name\")[\"earning\"].sum() \\\n",
    "            .transform(lambda x: (x / x.sum() * 100)).rename('earning(%)').reset_index().sort_values(by=\"earning(%)\", ascending=False), \\\n",
    "            ax=ax[1,1],palette=\"Reds_r\", ci=False)\n",
    "for container in g.containers:\n",
    "    g.bar_label(container, fmt='%.1f', padding=5, fontsize=18, color=\"black\")\n",
    "ax[1,1].set_ylabel(\"\")\n",
    "ax[1,1].set_xlabel(\"Earnings (%)\", size=20,fontweight=\"bold\")\n",
    "ax[1,1].set_title(\"Product Group\", size=25,fontweight=\"bold\")\n",
    "ax[1,1].grid(axis=\"x\",color = 'grey', linestyle = '--', linewidth = 1.5)\n",
    "fig.tight_layout()\n",
    "\n",
    "\n",
    "# Show everything\n",
    "plt.show() \n"
   ]
  },
  {
   "cell_type": "markdown",
   "id": "4c1ecd14",
   "metadata": {},
   "source": [
    "## Q2. Top 100 most profitable products"
   ]
  },
  {
   "cell_type": "code",
   "execution_count": null,
   "id": "882ec61b",
   "metadata": {},
   "outputs": [],
   "source": [
    "products_revenues=transactions.groupby('article_id').agg(revenues=('price','sum'))\n",
    "products_revenues=products_revenues.reset_index()\n",
    "ordered_revenues=products_revenues.sort_values('revenues',ascending=False)\n",
    "# top_100_products=ordered_revenues.head(100)\n",
    "# top_30_products=ordered_revenues.head(30)"
   ]
  },
  {
   "cell_type": "code",
   "execution_count": null,
   "id": "c130d413",
   "metadata": {},
   "outputs": [],
   "source": [
    "# top_100_products_details=top_100_products.merge(articles,on='article_id')\n",
    "# top_30_products_details=top_30_products.merge(articles,on='article_id')\n",
    "revenues_details=ordered_revenues.merge(articles,on='article_id')\n",
    "revenues_details.head(30)"
   ]
  },
  {
   "cell_type": "markdown",
   "id": "68d74546",
   "metadata": {},
   "source": [
    "## Q3 - Which are articles that generated lower earnings for the company?"
   ]
  },
  {
   "cell_type": "code",
   "execution_count": null,
   "id": "7cac4add",
   "metadata": {},
   "outputs": [],
   "source": [
    "revenues_details.tail(30)"
   ]
  },
  {
   "cell_type": "markdown",
   "id": "ef01916a",
   "metadata": {},
   "source": [
    "## Q3. Fashion news frequency by age group"
   ]
  },
  {
   "cell_type": "code",
   "execution_count": null,
   "id": "4818156d",
   "metadata": {},
   "outputs": [],
   "source": [
    "customers.groupby('fashion_news_frequency')"
   ]
  },
  {
   "cell_type": "code",
   "execution_count": null,
   "id": "e6ed3421",
   "metadata": {},
   "outputs": [],
   "source": []
  },
  {
   "cell_type": "markdown",
   "id": "63e44d64",
   "metadata": {},
   "source": [
    "## Q4. Average product bought by age group"
   ]
  },
  {
   "cell_type": "code",
   "execution_count": null,
   "id": "67893a5f",
   "metadata": {},
   "outputs": [],
   "source": [
    "customers['age_groups'] = pd.cut(customers['age'], bins=[16, 20, 30, 40,50, 60, 70, float('Inf')], labels=['16-20', '20-30','30-40','40-50','50-60','60-70' , '70+'])\n",
    "customers"
   ]
  },
  {
   "cell_type": "code",
   "execution_count": null,
   "id": "4233f197",
   "metadata": {},
   "outputs": [],
   "source": [
    "quant_per_cust=transactions.groupby('customer_id').agg(purchased_quantities=('price','count'))"
   ]
  },
  {
   "cell_type": "code",
   "execution_count": null,
   "id": "0f62cf25",
   "metadata": {},
   "outputs": [],
   "source": [
    "purchases=quant_per_cust.merge(customers,on='customer_id')"
   ]
  },
  {
   "cell_type": "code",
   "execution_count": null,
   "id": "364a8f71",
   "metadata": {},
   "outputs": [],
   "source": [
    "purchases.sort_values('purchased_quantities',ascending=False)"
   ]
  },
  {
   "cell_type": "code",
   "execution_count": null,
   "id": "3c16bb3e",
   "metadata": {},
   "outputs": [],
   "source": [
    "group_age_purchases=purchases.groupby('age_groups').agg(avg_purchase=('purchased_quantities',np.mean))"
   ]
  },
  {
   "cell_type": "code",
   "execution_count": null,
   "id": "dec5bf56",
   "metadata": {},
   "outputs": [],
   "source": [
    "group_age_purchases.head()"
   ]
  },
  {
   "cell_type": "markdown",
   "id": "9b09593b",
   "metadata": {},
   "source": [
    "## Q5. Average product bought by Fashion News frequency"
   ]
  },
  {
   "cell_type": "code",
   "execution_count": null,
   "id": "774b4624",
   "metadata": {},
   "outputs": [],
   "source": [
    "FNF_purchases=purchases.groupby('fashion_news_frequency').agg(avg_purchase=('purchased_quantities',np.mean))"
   ]
  },
  {
   "cell_type": "code",
   "execution_count": null,
   "id": "e55fbd6d",
   "metadata": {},
   "outputs": [],
   "source": [
    "FNF_purchases.head()"
   ]
  },
  {
   "cell_type": "markdown",
   "id": "3643d72d",
   "metadata": {},
   "source": [
    "## Q6. Purchased Quantity by Customer KDE  sns.kdeplot"
   ]
  },
  {
   "cell_type": "code",
   "execution_count": null,
   "id": "f9f61fa6",
   "metadata": {},
   "outputs": [],
   "source": [
    "plt.figure(figsize=(12,4))\n",
    "plt.title(\"Sold Quantity KDE plot\")\n",
    "sns.kdeplot(df_sold_qty[\"sold_qty\"])\n",
    "plt.xlabel(\"Sold Quantity\")\n",
    "plt.show()"
   ]
  },
  {
   "cell_type": "markdown",
   "id": "e627a1a9",
   "metadata": {},
   "source": [
    "## Q7 - Are there articles that have been sold only once?"
   ]
  },
  {
   "cell_type": "code",
   "execution_count": null,
   "id": "d0a3df4f",
   "metadata": {},
   "outputs": [],
   "source": [
    "num_sold=transactions.groupby('article_id').agg(num_sold=('price','count'))"
   ]
  },
  {
   "cell_type": "code",
   "execution_count": null,
   "id": "0aa73ed3",
   "metadata": {},
   "outputs": [],
   "source": [
    "num_sold.sort_values('num_sold')"
   ]
  },
  {
   "cell_type": "code",
   "execution_count": null,
   "id": "b3e04ea7",
   "metadata": {},
   "outputs": [],
   "source": [
    "once=num_sold[num_sold['num_sold']==1]"
   ]
  },
  {
   "cell_type": "code",
   "execution_count": null,
   "id": "4e5dc0d2",
   "metadata": {},
   "outputs": [],
   "source": [
    "once"
   ]
  },
  {
   "cell_type": "markdown",
   "id": "83703a43",
   "metadata": {},
   "source": [
    "## Q9 - Which age group generates more earnings?"
   ]
  },
  {
   "cell_type": "code",
   "execution_count": null,
   "id": "6397bee1",
   "metadata": {},
   "outputs": [],
   "source": [
    "earnings_per_customer=transactions.groupby('customer_id').agg(earnings=('price','sum'))"
   ]
  },
  {
   "cell_type": "code",
   "execution_count": null,
   "id": "65ddd7b0",
   "metadata": {},
   "outputs": [],
   "source": [
    "cust_with_earnings=earnings_per_customer.merge(customers,on='customer_id')"
   ]
  },
  {
   "cell_type": "code",
   "execution_count": null,
   "id": "5da23e4c",
   "metadata": {},
   "outputs": [],
   "source": [
    "cust_with_earnings.sort_values('earnings',ascending=False).head(20)"
   ]
  },
  {
   "cell_type": "code",
   "execution_count": null,
   "id": "4336444a",
   "metadata": {},
   "outputs": [],
   "source": [
    "temp = articles.groupby([\"garment_group_name\"])[\"product_type_name\"].nunique()\n",
    "df = pd.DataFrame({\"Garment Group\": temp.index, \"Product Types\": temp.values})\n",
    "df = df.sort_values([\"Product Types\"], ascending=False)\n",
    "plt.figure(figsize=(16, 5))\n",
    "plt.title(\"Number of Product Types per each Garment Group\")\n",
    "s = sns.barplot(x=\"Garment Group\", y=\"Product Types\", data=df, palette=\"cubehelix\")\n",
    "s.set_xticklabels(s.get_xticklabels(), rotation=90)\n",
    "locs, labels = plt.xticks()\n",
    "plt.show()"
   ]
  },
  {
   "cell_type": "markdown",
   "id": "375af59f",
   "metadata": {},
   "source": [
    "# Other"
   ]
  },
  {
   "cell_type": "code",
   "execution_count": null,
   "id": "c802f9b0",
   "metadata": {},
   "outputs": [],
   "source": [
    "temp = articles.groupby([\"colour_group_name\"])[\"prod_name\"].nunique()\n",
    "df = pd.DataFrame({\"Colour Name\": temp.index, \"Product names\": temp.values})\n",
    "df = df.sort_values([\"Product names\"], ascending=False)\n",
    "plt.figure(figsize=(20, 5))\n",
    "plt.title(\n",
    "    \"Number of Product Names per Colour -- a.k.a is there anything darker than black?\"\n",
    ")\n",
    "s = sns.barplot(x=\"Colour Name\", y=\"Product names\", data=df, palette=\"cubehelix\")\n",
    "s.set_xticklabels(s.get_xticklabels(), rotation=90)\n",
    "locs, labels = plt.xticks()\n",
    "plt.show()"
   ]
  },
  {
   "cell_type": "markdown",
   "id": "4521f18a",
   "metadata": {},
   "source": [
    "### age"
   ]
  },
  {
   "cell_type": "code",
   "execution_count": null,
   "id": "a06bd4d9",
   "metadata": {},
   "outputs": [],
   "source": [
    "temp = customers.groupby([\"age\"])[\"customer_id\"].count()\n",
    "df = pd.DataFrame({\"Age\": temp.index, \"Customers\": temp.values})\n",
    "df = df.sort_values([\"Age\"], ascending=False)\n",
    "plt.figure(figsize=(20, 5))\n",
    "plt.title(f\"Number of Customers by Age\")\n",
    "s = sns.barplot(x=\"Age\", y=\"Customers\", data=df, palette=\"cubehelix\")\n",
    "s.set_xticklabels(s.get_xticklabels(), rotation=90)\n",
    "locs, labels = plt.xticks()\n",
    "plt.show()"
   ]
  }
 ],
 "metadata": {
  "kernelspec": {
   "display_name": "Python 3 (ipykernel)",
   "language": "python",
   "name": "python3"
  },
  "language_info": {
   "codemirror_mode": {
    "name": "ipython",
    "version": 3
   },
   "file_extension": ".py",
   "mimetype": "text/x-python",
   "name": "python",
   "nbconvert_exporter": "python",
   "pygments_lexer": "ipython3",
   "version": "3.9.10"
  }
 },
 "nbformat": 4,
 "nbformat_minor": 5
}
